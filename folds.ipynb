{
  "cells": [
    {
      "cell_type": "code",
      "source": [
        "// range(0, 1000)\n",
        "let numbers: number[] = Array.from(Array(1000).keys());"
      ],
      "outputs": [],
      "execution_count": null,
      "metadata": {}
    },
    {
      "cell_type": "code",
      "source": [
        "function sumRecur(xs: number[]): number {\n",
        "  if (xs.length < 1) {\n",
        "    return 0\n",
        "  }\n",
        "\n",
        "  return xs[0] + sumRecur(xs.slice(1, xs.length))\n",
        "}"
      ],
      "outputs": [],
      "execution_count": null,
      "metadata": {}
    },
    {
      "cell_type": "code",
      "source": [
        "sumRecur(numbers)"
      ],
      "outputs": [],
      "execution_count": null,
      "metadata": {}
    },
    {
      "cell_type": "markdown",
      "source": [
        "# How does this evaluate?\n",
        "\n",
        "```\n",
        "let nums = [0, 1, 2, 3];\n",
        "sumRecur(nums)\n",
        "0 + sumRecur([1, 2, 3])\n",
        "0 + (1 + sumRecur([2, 3]))\n",
        "0 + (1 + (2 + sumRecur([3])))\n",
        "0 + (1 + (2 + (3 + sumRecur([]))))\n",
        "0 + (1 + (2 + (3 + 0)))\n",
        "0 + (1 + (2 + 3))\n",
        "0 + (1 + 5)\n",
        "0 + 6\n",
        "6\n",
        "```"
      ],
      "metadata": {}
    },
    {
      "cell_type": "code",
      "source": [
        "function sumTailRecur(xs: number[]): number {\n",
        "  function sumR(nums: number[], acc: number): number {\n",
        "    if (nums.length < 1) {\n",
        "      return acc\n",
        "    }\n",
        "\n",
        "    return sumR(nums.slice(1, nums.length), acc + nums[0])\n",
        "  }\n",
        "\n",
        "  return sumR(xs, 0)\n",
        "}"
      ],
      "outputs": [],
      "execution_count": null,
      "metadata": {}
    },
    {
      "cell_type": "code",
      "source": [
        "sumTailRecur(numbers)"
      ],
      "outputs": [],
      "execution_count": null,
      "metadata": {}
    },
    {
      "cell_type": "markdown",
      "source": [
        "# How does this evaluate?\n",
        "\n",
        "```\n",
        "let nums = [0, 1, 2, 3];\n",
        "sumTailRecur(nums)\n",
        "sumR([0, 1, 2, 3], 0)\n",
        "sumR([1, 2, 3], 0)\n",
        "sumR([2, 3], 1)\n",
        "sumR([3], 3)\n",
        "sumR([], 6)\n",
        "6\n",
        "```"
      ],
      "metadata": {}
    },
    {
      "cell_type": "markdown",
      "source": [
        "# Tall call optimisation"
      ],
      "metadata": {}
    },
    {
      "cell_type": "code",
      "source": [
        "function sumNonRecur(xs: number[]): number {\n",
        "  function sumNR(nums: number[], acc: number): number {\n",
        "    while (true) {\n",
        "      if (nums.length < 1) {\n",
        "        return acc;\n",
        "      }\n",
        "\n",
        "      acc = acc + nums[0];\n",
        "      nums = nums.slice(1, nums.length);\n",
        "    }\n",
        "  }\n",
        "\n",
        "  return sumNR(xs, 0)\n",
        "}"
      ],
      "outputs": [],
      "execution_count": null,
      "metadata": {}
    },
    {
      "cell_type": "code",
      "source": [
        "sumNonRecur(numbers)"
      ],
      "outputs": [],
      "execution_count": null,
      "metadata": {}
    },
    {
      "cell_type": "markdown",
      "source": [
        "# Lots of useful functions can be built from recursion"
      ],
      "metadata": {}
    },
    {
      "cell_type": "code",
      "source": [
        "function lengthTailRecur(xs: number[]): number {\n",
        "  function lengthR(nums: number[], acc: number): number {\n",
        "    if (nums.length < 1) {\n",
        "      return acc\n",
        "    }\n",
        "\n",
        "    return lengthR(nums.slice(1, nums.length), acc + 1)\n",
        "  }\n",
        "\n",
        "  return lengthR(xs, 0)\n",
        "}"
      ],
      "outputs": [],
      "execution_count": null,
      "metadata": {}
    },
    {
      "cell_type": "code",
      "source": [
        "lengthTailRecur(numbers)"
      ],
      "outputs": [],
      "execution_count": null,
      "metadata": {}
    },
    {
      "cell_type": "code",
      "source": [
        "function maxTailRecur(xs: number[]): number {\n",
        "  function maxR(nums: number[], acc: number): number {\n",
        "    if (nums.length < 1) {\n",
        "      return acc\n",
        "    }\n",
        "\n",
        "    return maxR(nums.slice(1, nums.length), acc > nums[0] ? acc : nums[0])\n",
        "  }\n",
        "\n",
        "  return maxR(xs, Number.MIN_VALUE)\n",
        "}"
      ],
      "outputs": [],
      "execution_count": null,
      "metadata": {}
    },
    {
      "cell_type": "code",
      "source": [
        "maxTailRecur(numbers)"
      ],
      "outputs": [],
      "execution_count": null,
      "metadata": {}
    },
    {
      "cell_type": "code",
      "source": [
        "function minTailRecur(xs: number[]): number {\n",
        "  function maxR(nums: number[], acc: number): number {\n",
        "    if (nums.length < 1) {\n",
        "      return acc\n",
        "    }\n",
        "\n",
        "    return maxR(nums.slice(1, nums.length), acc < nums[0] ? acc : nums[0])\n",
        "  }\n",
        "\n",
        "  return maxR(xs, Number.MAX_VALUE)\n",
        "}"
      ],
      "outputs": [],
      "execution_count": null,
      "metadata": {}
    },
    {
      "cell_type": "code",
      "source": [
        "minTailRecur(numbers)"
      ],
      "outputs": [],
      "execution_count": null,
      "metadata": {}
    },
    {
      "cell_type": "markdown",
      "source": [
        "# Getting DRY"
      ],
      "metadata": {}
    },
    {
      "cell_type": "code",
      "source": [
        "function recurser(xs: number[], f: (x: number, acc: number) => number, base: number): number {\n",
        "  function helper(nums: number[], acc: number): number {\n",
        "    if (nums.length < 1) {\n",
        "      return acc\n",
        "    }\n",
        "\n",
        "    return helper(nums.slice(1, nums.length), f(acc, nums[0]))\n",
        "  }\n",
        "\n",
        "  return helper(xs, base)\n",
        "}"
      ],
      "outputs": [],
      "execution_count": null,
      "metadata": {}
    },
    {
      "cell_type": "markdown",
      "source": [
        "# Folds beautiful folds (aka. reduce)"
      ],
      "metadata": {}
    },
    {
      "cell_type": "code",
      "source": [
        "function foldLeft(xs: number[], f: (acc: number, x: number) => number, base: number) {\n",
        "  function helper(nums: number[], acc: number): number {\n",
        "    if (nums.length < 1) {\n",
        "      return acc\n",
        "    }\n",
        "\n",
        "    return helper(nums.slice(1, nums.length), f(acc, nums[0]))\n",
        "  }\n",
        "\n",
        "  return helper(xs, base)\n",
        "}"
      ],
      "outputs": [],
      "execution_count": null,
      "metadata": {}
    },
    {
      "cell_type": "code",
      "source": [
        "let add = (x: number, y: number): number => x + y\n",
        "let mul = (x: number, y: number): number => x * y\n",
        "let max = (x: number, y: number): number => x > y ? x : y\n",
        "let min = (x: number, y: number): number => x < y ? x : y\n",
        "\n",
        "console.log(foldLeft(numbers, add, 0))\n",
        "console.log(foldLeft(numbers, mul, 1))\n",
        "console.log(foldLeft([], max, Number.MIN_VALUE))\n",
        "console.log(foldLeft(numbers, min, Number.MAX_VALUE))"
      ],
      "outputs": [],
      "execution_count": null,
      "metadata": {}
    },
    {
      "cell_type": "markdown",
      "source": [
        "# Corecursion"
      ],
      "metadata": {}
    },
    {
      "cell_type": "code",
      "source": [
        "function* range(start: number, end: number): Generator<number> {\n",
        "  yield start;\n",
        "  if (start + 1 >= end) {\n",
        "    return;\n",
        "  }\n",
        "\n",
        "  yield* range(start + 1, end);\n",
        "}"
      ],
      "outputs": [],
      "execution_count": null,
      "metadata": {}
    },
    {
      "cell_type": "code",
      "source": [
        "Array.from(range(0, 10))"
      ],
      "outputs": [],
      "execution_count": null,
      "metadata": {}
    },
    {
      "cell_type": "code",
      "source": [
        "import AWS from 'aws-sdk';"
      ],
      "outputs": [],
      "execution_count": null,
      "metadata": {}
    },
    {
      "cell_type": "code",
      "source": [
        "const s3 = new AWS.S3();"
      ],
      "outputs": [],
      "execution_count": null,
      "metadata": {}
    },
    {
      "cell_type": "code",
      "source": [
        "async function* listObjects(bucket: string, nct: string = undefined): AsyncGenerator<object, void, undefined> {\n",
        "  const response = await s3.listObjectsV2({\n",
        "    Bucket: bucket,\n",
        "    ContinuationToken: nct,\n",
        "    MaxKeys: 3,\n",
        "  }).promise();\n",
        "\n",
        "  const objs: Array<object> = response['Contents'];\n",
        "  yield *objs;\n",
        "  \n",
        "  const nextToken = response['NextContinuationToken'];\n",
        "  if (!nextToken) {\n",
        "    return;\n",
        "  }\n",
        "  \n",
        "  yield* listObjects(bucket, nextToken);\n",
        "}"
      ],
      "outputs": [],
      "execution_count": null,
      "metadata": {}
    },
    {
      "cell_type": "code",
      "source": [
        "async function testListObjects() {\n",
        "  for await (const obj of listObjects('test-bucket')) {\n",
        "    console.log(obj);\n",
        "  }\n",
        "}"
      ],
      "outputs": [],
      "execution_count": null,
      "metadata": {}
    },
    {
      "cell_type": "code",
      "source": [
        "await testListObjects()"
      ],
      "outputs": [],
      "execution_count": null,
      "metadata": {}
    },
    {
      "cell_type": "code",
      "source": [
        "function unfold<A, B>(f: (b: B) => Promise<[A[], B | null]>): (B) => AsyncGenerator<A, void, undefined> {\n",
        "  return async function* unfolder(z: B) {\n",
        "    let result = await f(z);\n",
        "    yield* result[0];\n",
        "\n",
        "    if (!result[1]) {\n",
        "      return;\n",
        "    }\n",
        "\n",
        "    yield* unfolder(result[1]);\n",
        "  }\n",
        "}"
      ],
      "outputs": [],
      "execution_count": null,
      "metadata": {}
    },
    {
      "cell_type": "code",
      "source": [
        "async function genRange({start, end}: {start: number, end: number}): Promise<[number[], object | null]> {\n",
        "  if (start + 1 >= end) {\n",
        "    return [[start], null ];\n",
        "  } else {\n",
        "    return [[start], {start: start + 1, end}];\n",
        "  }\n",
        "}\n",
        "\n",
        "let range2 = unfold(genRange);"
      ],
      "outputs": [],
      "execution_count": null,
      "metadata": {}
    },
    {
      "cell_type": "code",
      "source": [
        "async function listObjs({bucket, nct}: {bucket: string, nct: string}): Promise<[object[], object | null]> {\n",
        "  const response = await s3.listObjectsV2({\n",
        "    Bucket: bucket,\n",
        "    ContinuationToken: nct || undefined,\n",
        "    MaxKeys: 3,\n",
        "  }).promise();\n",
        "\n",
        "  const objs: Array<object> = response['Contents'];\n",
        "  const nextToken = response['NextContinuationToken'];\n",
        "  if (!nextToken) {\n",
        "    return [objs, null];\n",
        "  } else {\n",
        "    return [objs, {bucket, nct: nextToken}];\n",
        "  }\n",
        "};\n",
        "\n",
        "let listObjectsV2 = unfold(listObjs);"
      ],
      "outputs": [],
      "execution_count": null,
      "metadata": {}
    },
    {
      "cell_type": "code",
      "source": [
        "async function testUnfoldRange() {\n",
        "  for await (const i of range2({start: 0, end: 10})) {\n",
        "    console.log(i);\n",
        "  }\n",
        "}\n",
        "\n",
        "async function testUnfoldListObjects() {\n",
        "  for await (const obj of listObjectsV2({bucket:\"test-bucket\"})) {\n",
        "    console.log(obj);\n",
        "  }\n",
        "}"
      ],
      "outputs": [],
      "execution_count": null,
      "metadata": {}
    },
    {
      "cell_type": "code",
      "source": [
        "await testUnfoldRange();"
      ],
      "outputs": [],
      "execution_count": null,
      "metadata": {}
    },
    {
      "cell_type": "code",
      "source": [
        "await testUnfoldListObjects()"
      ],
      "outputs": [],
      "execution_count": null,
      "metadata": {}
    },
    {
      "cell_type": "code",
      "source": [],
      "outputs": [],
      "execution_count": null,
      "metadata": {}
    }
  ],
  "metadata": {
    "kernelspec": {
      "display_name": "TypeScript",
      "language": "typescript",
      "name": "tslab"
    },
    "language_info": {
      "codemirror_mode": {
        "mode": "typescript",
        "name": "javascript",
        "typescript": true
      },
      "file_extension": ".ts",
      "mimetype": "text/typescript",
      "name": "typescript",
      "version": "3.7.2"
    },
    "nteract": {
      "version": "0.22.0"
    }
  },
  "nbformat": 4,
  "nbformat_minor": 4
}